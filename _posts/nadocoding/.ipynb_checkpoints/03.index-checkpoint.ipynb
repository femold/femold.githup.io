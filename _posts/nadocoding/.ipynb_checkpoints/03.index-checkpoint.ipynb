{
 "cells": [
  {
   "cell_type": "markdown",
   "id": "44cd2b55",
   "metadata": {},
   "source": [
    "#3.index 예제\n",
    "\n",
    "데이터에 접근할 수 있는 주소 값"
   ]
  },
  {
   "cell_type": "code",
   "execution_count": null,
   "id": "35b4c40d",
   "metadata": {},
   "outputs": [],
   "source": [
    "lst = ['유재석','하하']\n",
    "lst[0]"
   ]
  },
  {
   "cell_type": "code",
   "execution_count": null,
   "id": "5e79a7b5",
   "metadata": {},
   "outputs": [],
   "source": []
  }
 ],
 "metadata": {
  "kernelspec": {
   "display_name": "Python 3 (ipykernel)",
   "language": "python",
   "name": "python3"
  },
  "language_info": {
   "codemirror_mode": {
    "name": "ipython",
    "version": 3
   },
   "file_extension": ".py",
   "mimetype": "text/x-python",
   "name": "python",
   "nbconvert_exporter": "python",
   "pygments_lexer": "ipython3",
   "version": "3.9.12"
  }
 },
 "nbformat": 4,
 "nbformat_minor": 5
}
